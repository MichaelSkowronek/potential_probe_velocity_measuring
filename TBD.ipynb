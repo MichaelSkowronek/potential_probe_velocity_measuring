{
 "cells": [
  {
   "cell_type": "markdown",
   "metadata": {},
   "source": [
    "# TBD"
   ]
  },
  {
   "cell_type": "code",
   "execution_count": 5,
   "metadata": {},
   "outputs": [],
   "source": [
    "from pathlib import Path\n",
    "import pandas as pd\n",
    "import re"
   ]
  },
  {
   "cell_type": "code",
   "execution_count": 6,
   "metadata": {},
   "outputs": [],
   "source": [
    "data_path = Path(\"../../data/4pi_re1000_ha700.384_sh18.p1/SliceYZ_x0030_truncated/sliceYZ_x0030_fld.dat\")"
   ]
  },
  {
   "cell_type": "code",
   "execution_count": 44,
   "metadata": {},
   "outputs": [
    {
     "name": "stdout",
     "output_type": "stream",
     "text": [
      "N = 26\n",
      "(2401, 10)\n",
      "          y    z   vx   vy   vz        jx        jy   jz         P         F\n",
      "0 -1.000000 -1.0  0.0  0.0  0.0  0.077464  0.000000  0.0  0.000302  1.433369\n",
      "1 -0.988806 -1.0  0.0  0.0  0.0  0.143335 -1.971370  0.0  0.000300  1.447372\n",
      "2 -0.972254 -1.0  0.0  0.0  0.0  0.251861 -2.145257  0.0  0.000297  1.482691\n",
      "3 -0.950877 -1.0  0.0  0.0  0.0  0.269654 -2.065983  0.0  0.000294  1.527594\n",
      "4 -0.925175 -1.0  0.0  0.0  0.0  0.052203 -1.986102  0.0  0.000291  1.579733\n"
     ]
    }
   ],
   "source": [
    "# File path\n",
    "file_path = data_path\n",
    "\n",
    "# Read the file line by line\n",
    "with open(file_path, \"r\") as file:\n",
    "    lines = file.readlines()\n",
    "\n",
    "# Variables to store parsed data\n",
    "data_frames = []\n",
    "current_snapshot = []\n",
    "headers = []\n",
    "\n",
    "# Regular expression to detect headers (assuming they start with 'VARIABLES' or 'ZONE')\n",
    "re_title = re.compile(r' title')\n",
    "re_variables = re.compile(r' variables')\n",
    "re_zone = re.compile(r' zone')\n",
    "re_whitespace = re.compile(r'\\s*')\n",
    "\n",
    "for line in lines:\n",
    "    if re_title.match(line):\n",
    "        # If we encounter \"title\" and there's existing data, store it\n",
    "        if current_snapshot:\n",
    "            df = pd.DataFrame(current_snapshot, columns=headers)\n",
    "            data_frames.append(df)\n",
    "            current_snapshot = []\n",
    "    # Extract headers from VARIABLES line\n",
    "    elif re_variables.match(line):\n",
    "        headers = re.findall(r'\"(.*?)\"', line)\n",
    "    elif re_zone.match(line):\n",
    "        continue\n",
    "    elif re_whitespace.fullmatch(line):\n",
    "        continue\n",
    "    else:\n",
    "        # Convert numerical lines into float values\n",
    "        values = line.split()\n",
    "        current_snapshot.append(list(map(float, values)))\n",
    "\n",
    "# Append the last snapshot\n",
    "if current_snapshot:\n",
    "    df = pd.DataFrame(current_snapshot, columns=headers)\n",
    "    data_frames.append(df)\n",
    "\n",
    "# Now `data_frames` contains a list of DataFrames for each snapshot\n",
    "def get_snapshot(index):\n",
    "    \"\"\"Retrieve a specific snapshot by index.\"\"\"\n",
    "    if 0 <= index < len(data_frames):\n",
    "        return data_frames[index]\n",
    "    else:\n",
    "        print(\"Invalid snapshot index\")\n",
    "        return None\n",
    "\n",
    "# Example: Access first snapshot\n",
    "print(\"N =\", len(data_frames))\n",
    "df_first_snapshot = get_snapshot(0)\n",
    "print(df_first_snapshot.shape)\n",
    "print(df_first_snapshot.head(n=5))\n"
   ]
  }
 ],
 "metadata": {
  "kernelspec": {
   "display_name": "potential_probe",
   "language": "python",
   "name": "python3"
  },
  "language_info": {
   "codemirror_mode": {
    "name": "ipython",
    "version": 3
   },
   "file_extension": ".py",
   "mimetype": "text/x-python",
   "name": "python",
   "nbconvert_exporter": "python",
   "pygments_lexer": "ipython3",
   "version": "3.12.9"
  }
 },
 "nbformat": 4,
 "nbformat_minor": 2
}
