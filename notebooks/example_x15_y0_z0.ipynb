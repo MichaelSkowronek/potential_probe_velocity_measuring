{
 "cells": [
  {
   "cell_type": "markdown",
   "metadata": {},
   "source": [
    "# Measurement at x = 15, y = 0, z = 0"
   ]
  },
  {
   "cell_type": "markdown",
   "metadata": {},
   "source": [
    "### Imports"
   ]
  },
  {
   "cell_type": "code",
   "execution_count": 11,
   "metadata": {},
   "outputs": [],
   "source": [
    "import numpy as np\n",
    "from pathlib import Path\n",
    "\n",
    "from python_utils.utils import load_object"
   ]
  },
  {
   "cell_type": "markdown",
   "metadata": {},
   "source": [
    "### General Args"
   ]
  },
  {
   "cell_type": "code",
   "execution_count": 5,
   "metadata": {},
   "outputs": [],
   "source": [
    "slice_folder_path = Path(\"../../../data/4pi_re1000_ha300.360_ch28.p1/SliceYZ_x0015/\")"
   ]
  },
  {
   "cell_type": "markdown",
   "metadata": {},
   "source": [
    "### Load Data"
   ]
  },
  {
   "cell_type": "code",
   "execution_count": 8,
   "metadata": {},
   "outputs": [],
   "source": [
    "pkl_path = slice_folder_path / Path(\"pkl/sliceYZ_x0015_fld.pkl\")"
   ]
  },
  {
   "cell_type": "markdown",
   "metadata": {},
   "source": [
    "### Verify Data"
   ]
  },
  {
   "cell_type": "code",
   "execution_count": 12,
   "metadata": {},
   "outputs": [
    {
     "name": "stdout",
     "output_type": "stream",
     "text": [
      "Object successfully loaded from ..\\..\\..\\data\\4pi_re1000_ha300.360_ch28.p1\\SliceYZ_x0015\\pkl\\sliceYZ_x0015_fld.pkl\n",
      "N = 20000\n",
      "n_y = 46.0, n_z = 46.0, n_v = 10\n",
      "          y    z   vx   vy   vz        jx        jy   jz         P         F\n",
      "0 -1.000000 -1.0  0.0  0.0  0.0 -0.202742  0.000000  0.0 -0.000586  1.594463\n",
      "1 -0.987221 -1.0  0.0  0.0  0.0 -0.122091  2.072063  0.0 -0.000584  1.580085\n",
      "2 -0.966764 -1.0  0.0  0.0  0.0 -0.080987  3.681530  0.0 -0.000576  1.517575\n",
      "3 -0.938938 -1.0  0.0  0.0  0.0 -0.255745  3.601412  0.0 -0.000556  1.412722\n",
      "4 -0.904241 -1.0  0.0  0.0  0.0 -1.052832  2.337604  0.0 -0.000527  1.307453\n"
     ]
    }
   ],
   "source": [
    "# Load the object back from the specified path\n",
    "loaded_data = load_object(pkl_path)\n",
    "\n",
    "# Verify if it matches the original data\n",
    "print(\"N =\", len(loaded_data))\n",
    "df_first_snapshot = loaded_data[0]\n",
    "n_x_y, n_v = df_first_snapshot.shape\n",
    "n_y = n_z = np.sqrt(n_x_y)\n",
    "print(f\"n_y = {n_y}, n_z = {n_z}, n_v = {n_v}\")\n",
    "print(df_first_snapshot.head(n=5))"
   ]
  }
 ],
 "metadata": {
  "kernelspec": {
   "display_name": "potential_probe",
   "language": "python",
   "name": "python3"
  },
  "language_info": {
   "codemirror_mode": {
    "name": "ipython",
    "version": 3
   },
   "file_extension": ".py",
   "mimetype": "text/x-python",
   "name": "python",
   "nbconvert_exporter": "python",
   "pygments_lexer": "ipython3",
   "version": "3.12.9"
  }
 },
 "nbformat": 4,
 "nbformat_minor": 2
}
