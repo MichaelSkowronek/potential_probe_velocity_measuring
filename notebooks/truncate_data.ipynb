{
 "cells": [
  {
   "cell_type": "markdown",
   "metadata": {},
   "source": [
    "# Truncate Data"
   ]
  },
  {
   "cell_type": "code",
   "execution_count": 3,
   "metadata": {},
   "outputs": [],
   "source": [
    "from pathlib import Path"
   ]
  },
  {
   "cell_type": "code",
   "execution_count": null,
   "metadata": {},
   "outputs": [],
   "source": [
    "data_path = Path(\"../../../data/4pi_re1000_ha700.384_sh18.p1/SliceYZ_x0030/sliceYZ_x0030_fld_truncated.dat\")\n",
    "line_to_truncate = 63781"
   ]
  },
  {
   "cell_type": "code",
   "execution_count": 5,
   "metadata": {},
   "outputs": [],
   "source": [
    "def truncate_file_at_line(filepath, line_number):\n",
    "    \"\"\"\n",
    "    Truncates a file at the specified line number.\n",
    "\n",
    "    Args:\n",
    "        filepath (str): The path to the file.\n",
    "        line_number (int): The line number at which to truncate the file.\n",
    "    \"\"\"\n",
    "    try:\n",
    "        with open(filepath, 'r+') as f:  # Open for reading and writing\n",
    "            lines = f.readlines()\n",
    "            if line_number > 0 and line_number <= len(lines):\n",
    "                f.seek(0) # go to the beginning of the file\n",
    "                f.writelines(lines[:line_number]) # write the first line_number lines\n",
    "                f.truncate() # remove the rest of the file.\n",
    "            else:\n",
    "                print(f\"Error: Line number {line_number} is out of range.\")\n",
    "\n",
    "    except FileNotFoundError:\n",
    "        print(f\"Error: File not found at {filepath}\")\n",
    "    except Exception as e:\n",
    "        print(f\"An error occurred: {e}\")\n",
    "\n",
    "truncate_file_at_line(data_path, line_to_truncate)"
   ]
  }
 ],
 "metadata": {
  "kernelspec": {
   "display_name": "potential_probe",
   "language": "python",
   "name": "python3"
  },
  "language_info": {
   "codemirror_mode": {
    "name": "ipython",
    "version": 3
   },
   "file_extension": ".py",
   "mimetype": "text/x-python",
   "name": "python",
   "nbconvert_exporter": "python",
   "pygments_lexer": "ipython3",
   "version": "3.12.9"
  }
 },
 "nbformat": 4,
 "nbformat_minor": 2
}
