{
 "cells": [
  {
   "cell_type": "markdown",
   "metadata": {},
   "source": [
    "# Store Slice as pickle"
   ]
  },
  {
   "cell_type": "markdown",
   "metadata": {},
   "source": [
    "### Imports"
   ]
  },
  {
   "cell_type": "code",
   "execution_count": 1,
   "metadata": {},
   "outputs": [],
   "source": [
    "from pathlib import Path\n",
    "import numpy as np\n",
    "\n",
    "from python_utils.utils import save_object\n",
    "from python_utils.utils import load_object\n",
    "from python_utils.data_processing import parse_tecplot_slice_to_dataframes_timeseries"
   ]
  },
  {
   "cell_type": "markdown",
   "metadata": {},
   "source": [
    "### General Args"
   ]
  },
  {
   "cell_type": "code",
   "execution_count": 2,
   "metadata": {},
   "outputs": [],
   "source": [
    "slice_folder_path = Path(\"../../../data/4pi_re1000_ha300.360_ch28.p1/SliceYZ_x0015/\")"
   ]
  },
  {
   "cell_type": "markdown",
   "metadata": {},
   "source": [
    "### Load"
   ]
  },
  {
   "cell_type": "code",
   "execution_count": 3,
   "metadata": {},
   "outputs": [],
   "source": [
    "data_path = slice_folder_path / Path(\"sliceYZ_x0015_fld.dat\")"
   ]
  },
  {
   "cell_type": "code",
   "execution_count": 4,
   "metadata": {},
   "outputs": [
    {
     "ename": "FileNotFoundError",
     "evalue": "[Errno 2] No such file or directory: '..\\\\..\\\\..\\\\data\\\\4pi_re1000_ha300.360_ch28.p1\\\\SliceYZ_x0015\\\\sliceYZ_x0015_fld.dat'",
     "output_type": "error",
     "traceback": [
      "\u001b[1;31m---------------------------------------------------------------------------\u001b[0m",
      "\u001b[1;31mFileNotFoundError\u001b[0m                         Traceback (most recent call last)",
      "Cell \u001b[1;32mIn[4], line 1\u001b[0m\n\u001b[1;32m----> 1\u001b[0m data_frames \u001b[38;5;241m=\u001b[39m parse_tecplot_slice_to_dataframes_timeseries(data_path)\n",
      "File \u001b[1;32mc:\\Users\\hydro\\anaconda3\\envs\\potential_probe\\Lib\\site-packages\\python_utils\\data_processing.py:22\u001b[0m, in \u001b[0;36mparse_tecplot_slice_to_dataframes_timeseries\u001b[1;34m(file_path)\u001b[0m\n\u001b[0;32m     19\u001b[0m re_zone \u001b[38;5;241m=\u001b[39m re\u001b[38;5;241m.\u001b[39mcompile(\u001b[38;5;124mr\u001b[39m\u001b[38;5;124m'\u001b[39m\u001b[38;5;124mzone\u001b[39m\u001b[38;5;124m'\u001b[39m)\n\u001b[0;32m     21\u001b[0m \u001b[38;5;66;03m# Read the file line by line\u001b[39;00m\n\u001b[1;32m---> 22\u001b[0m \u001b[38;5;28;01mwith\u001b[39;00m \u001b[38;5;28mopen\u001b[39m(file_path, \u001b[38;5;124m\"\u001b[39m\u001b[38;5;124mr\u001b[39m\u001b[38;5;124m\"\u001b[39m) \u001b[38;5;28;01mas\u001b[39;00m file:\n\u001b[0;32m     23\u001b[0m     \u001b[38;5;28;01mfor\u001b[39;00m line \u001b[38;5;129;01min\u001b[39;00m file:\n\u001b[0;32m     24\u001b[0m         line \u001b[38;5;241m=\u001b[39m line\u001b[38;5;241m.\u001b[39mstrip()  \u001b[38;5;66;03m# Remove leading/trailing whitespace\u001b[39;00m\n",
      "\u001b[1;31mFileNotFoundError\u001b[0m: [Errno 2] No such file or directory: '..\\\\..\\\\..\\\\data\\\\4pi_re1000_ha300.360_ch28.p1\\\\SliceYZ_x0015\\\\sliceYZ_x0015_fld.dat'"
     ]
    }
   ],
   "source": [
    "data_frames = parse_tecplot_slice_to_dataframes_timeseries(data_path)"
   ]
  },
  {
   "cell_type": "code",
   "execution_count": null,
   "metadata": {},
   "outputs": [
    {
     "name": "stdout",
     "output_type": "stream",
     "text": [
      "N = 0\n"
     ]
    },
    {
     "ename": "IndexError",
     "evalue": "list index out of range",
     "output_type": "error",
     "traceback": [
      "\u001b[1;31m---------------------------------------------------------------------------\u001b[0m",
      "\u001b[1;31mIndexError\u001b[0m                                Traceback (most recent call last)",
      "Cell \u001b[1;32mIn[19], line 3\u001b[0m\n\u001b[0;32m      1\u001b[0m \u001b[38;5;66;03m# Example: Access first snapshot\u001b[39;00m\n\u001b[0;32m      2\u001b[0m \u001b[38;5;28mprint\u001b[39m(\u001b[38;5;124m\"\u001b[39m\u001b[38;5;124mN =\u001b[39m\u001b[38;5;124m\"\u001b[39m, \u001b[38;5;28mlen\u001b[39m(data_frames))\n\u001b[1;32m----> 3\u001b[0m df_first_snapshot \u001b[38;5;241m=\u001b[39m data_frames[\u001b[38;5;241m0\u001b[39m]\n\u001b[0;32m      4\u001b[0m n_x_y, n_v \u001b[38;5;241m=\u001b[39m df_first_snapshot\u001b[38;5;241m.\u001b[39mshape\n\u001b[0;32m      5\u001b[0m n_y \u001b[38;5;241m=\u001b[39m n_z \u001b[38;5;241m=\u001b[39m np\u001b[38;5;241m.\u001b[39msqrt(n_x_y)\n",
      "\u001b[1;31mIndexError\u001b[0m: list index out of range"
     ]
    }
   ],
   "source": [
    "# Example: Access first snapshot\n",
    "print(\"N =\", len(data_frames))\n",
    "df_first_snapshot = data_frames[0]\n",
    "n_x_y, n_v = df_first_snapshot.shape\n",
    "n_y = n_z = np.sqrt(n_x_y)\n",
    "print(f\"n_y = {n_y}, n_z = {n_z}, n_v = {n_v}\")\n",
    "print(df_first_snapshot.head(n=5))"
   ]
  },
  {
   "cell_type": "markdown",
   "metadata": {},
   "source": [
    "### Store"
   ]
  },
  {
   "cell_type": "code",
   "execution_count": null,
   "metadata": {},
   "outputs": [],
   "source": [
    "pickle_dir = slice_folder_path / Path(\"pkl/sliceYZ_x0015_fld.pkl\")"
   ]
  },
  {
   "cell_type": "code",
   "execution_count": null,
   "metadata": {},
   "outputs": [],
   "source": [
    "save_object(data_frames, pickle_dir)"
   ]
  },
  {
   "cell_type": "markdown",
   "metadata": {},
   "source": [
    "### Verification"
   ]
  },
  {
   "cell_type": "code",
   "execution_count": null,
   "metadata": {},
   "outputs": [],
   "source": [
    "# Load the object back from the specified path\n",
    "loaded_data = load_object(pickle_dir)\n",
    "\n",
    "# Verify if it matches the original data\n",
    "print(\"N =\", len(loaded_data))\n",
    "df_first_snapshot = loaded_data[0]\n",
    "n_x_y, n_v = df_first_snapshot.shape\n",
    "n_y = n_z = np.sqrt(n_x_y)\n",
    "print(f\"n_y = {n_y}, n_z = {n_z}, n_v = {n_v}\")\n",
    "print(df_first_snapshot.head(n=5))"
   ]
  }
 ],
 "metadata": {
  "kernelspec": {
   "display_name": "potential_probe",
   "language": "python",
   "name": "python3"
  },
  "language_info": {
   "codemirror_mode": {
    "name": "ipython",
    "version": 3
   },
   "file_extension": ".py",
   "mimetype": "text/x-python",
   "name": "python",
   "nbconvert_exporter": "python",
   "pygments_lexer": "ipython3",
   "version": "3.12.9"
  }
 },
 "nbformat": 4,
 "nbformat_minor": 2
}
