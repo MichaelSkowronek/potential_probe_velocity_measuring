{
 "cells": [
  {
   "cell_type": "markdown",
   "metadata": {},
   "source": [
    "# Store Slice as pickle"
   ]
  },
  {
   "cell_type": "markdown",
   "metadata": {},
   "source": [
    "### Imports"
   ]
  },
  {
   "cell_type": "code",
   "execution_count": 3,
   "metadata": {},
   "outputs": [],
   "source": [
    "from pathlib import Path\n",
    "import pandas as pd\n",
    "import re\n",
    "import numpy as np\n",
    "import pickle\n",
    "\n",
    "from python_utils.utils import load_object"
   ]
  },
  {
   "cell_type": "markdown",
   "metadata": {},
   "source": [
    "### General Args"
   ]
  },
  {
   "cell_type": "code",
   "execution_count": 4,
   "metadata": {},
   "outputs": [],
   "source": [
    "slice_folder_path = Path(\"../../../data/4pi_re1000_ha300.360_ch28.p1/SliceYZ_x0015/\")"
   ]
  },
  {
   "cell_type": "markdown",
   "metadata": {},
   "source": [
    "### Load"
   ]
  },
  {
   "cell_type": "code",
   "execution_count": 5,
   "metadata": {},
   "outputs": [],
   "source": [
    "data_path = slice_folder_path / Path(\"sliceYZ_x0015_fld.dat\")"
   ]
  },
  {
   "cell_type": "code",
   "execution_count": 6,
   "metadata": {},
   "outputs": [],
   "source": [
    "def parse_file_to_dataframes(file_path):\n",
    "    # Initialize variables to store parsed data\n",
    "    data_frames = []\n",
    "    current_snapshot = []\n",
    "    headers = []\n",
    "\n",
    "    # Regular expressions to detect headers\n",
    "    re_title = re.compile(r'title')\n",
    "    re_variables = re.compile(r'variables')\n",
    "    re_zone = re.compile(r'zone')\n",
    "\n",
    "    try:\n",
    "        # Read the file line by line\n",
    "        with open(file_path, \"r\") as file:\n",
    "            for line in file:\n",
    "                line = line.strip()  # Remove leading/trailing whitespace\n",
    "\n",
    "                if not line:  # Skip empty lines\n",
    "                    continue\n",
    "\n",
    "                if re_title.match(line):\n",
    "                    if current_snapshot:  # If there's existing data, store it\n",
    "                        df = pd.DataFrame(current_snapshot, columns=headers)\n",
    "                        data_frames.append(df)\n",
    "                        current_snapshot.clear()  # Clear for the next snapshot\n",
    "                \n",
    "                elif re_variables.match(line):\n",
    "                    headers = re.findall(r'\"(.*?)\"', line)\n",
    "                \n",
    "                elif not re_zone.match(line):  # Ignore 'zone' lines\n",
    "                    try:\n",
    "                        values = list(map(float, line.split()))\n",
    "                        current_snapshot.append(values)  # Append float values to the snapshot\n",
    "                    except ValueError:\n",
    "                        print(f\"Warning: Could not convert line to float values: {line}\")\n",
    "\n",
    "        # Append the last snapshot if there is one\n",
    "        if current_snapshot:\n",
    "            df = pd.DataFrame(current_snapshot, columns=headers)\n",
    "            data_frames.append(df)\n",
    "\n",
    "    except FileNotFoundError:\n",
    "        print(f\"Error: The file '{file_path}' was not found.\")\n",
    "    except Exception as e:\n",
    "        print(f\"An unexpected error occurred: {e}\")\n",
    "\n",
    "    return data_frames\n"
   ]
  },
  {
   "cell_type": "code",
   "execution_count": 7,
   "metadata": {},
   "outputs": [],
   "source": [
    "data_frames = parse_file_to_dataframes(data_path)"
   ]
  },
  {
   "cell_type": "code",
   "execution_count": 8,
   "metadata": {},
   "outputs": [],
   "source": [
    "def get_snapshot(\n",
    "        data_frames,\n",
    "        index,\n",
    "        ):\n",
    "    \"\"\"Retrieve a specific snapshot by index.\"\"\"\n",
    "    if 0 <= index < len(data_frames):\n",
    "        return data_frames[index]\n",
    "    else:\n",
    "        print(\"Invalid snapshot index\")\n",
    "        return None\n"
   ]
  },
  {
   "cell_type": "code",
   "execution_count": 9,
   "metadata": {},
   "outputs": [
    {
     "name": "stdout",
     "output_type": "stream",
     "text": [
      "N = 20000\n",
      "n_y = 46.0, n_z = 46.0, n_v = 10\n",
      "          y    z   vx   vy   vz        jx        jy   jz         P         F\n",
      "0 -1.000000 -1.0  0.0  0.0  0.0 -0.202742  0.000000  0.0 -0.000586  1.594463\n",
      "1 -0.987221 -1.0  0.0  0.0  0.0 -0.122091  2.072063  0.0 -0.000584  1.580085\n",
      "2 -0.966764 -1.0  0.0  0.0  0.0 -0.080987  3.681530  0.0 -0.000576  1.517575\n",
      "3 -0.938938 -1.0  0.0  0.0  0.0 -0.255745  3.601412  0.0 -0.000556  1.412722\n",
      "4 -0.904241 -1.0  0.0  0.0  0.0 -1.052832  2.337604  0.0 -0.000527  1.307453\n"
     ]
    }
   ],
   "source": [
    "# Example: Access first snapshot\n",
    "print(\"N =\", len(data_frames))\n",
    "df_first_snapshot = get_snapshot(\n",
    "    data_frames,\n",
    "    0,\n",
    "    )\n",
    "n_x_y, n_v = df_first_snapshot.shape\n",
    "n_y = n_z = np.sqrt(n_x_y)\n",
    "print(f\"n_y = {n_y}, n_z = {n_z}, n_v = {n_v}\")\n",
    "print(df_first_snapshot.head(n=5))"
   ]
  },
  {
   "cell_type": "markdown",
   "metadata": {},
   "source": [
    "### Store"
   ]
  },
  {
   "cell_type": "code",
   "execution_count": 10,
   "metadata": {},
   "outputs": [],
   "source": [
    "pickle_dir = slice_folder_path / Path(\"pkl/sliceYZ_x0015_fld.pkl\")"
   ]
  },
  {
   "cell_type": "code",
   "execution_count": 11,
   "metadata": {},
   "outputs": [],
   "source": [
    "def save_object(obj, file_path):\n",
    "    \"\"\"\n",
    "    Save a Python object to a file.\n",
    "    \n",
    "    :param obj: The Python object to save\n",
    "    :param file_path: The path of the file where the object will be stored\n",
    "    \"\"\"\n",
    "    try:\n",
    "        with open(file_path, 'wb') as file:\n",
    "            pickle.dump(obj, file)\n",
    "        print(f\"Object successfully saved to {file_path}\")\n",
    "    except Exception as e:\n",
    "        print(f\"An error occurred while saving the object: {e}\")\n",
    "\n",
    "# def load_object(file_path):\n",
    "#     \"\"\"\n",
    "#     Load a Python object from a file.\n",
    "    \n",
    "#     :param file_path: The path of the file where the object is stored\n",
    "#     :return: The loaded Python object\n",
    "#     \"\"\"\n",
    "#     try:\n",
    "#         with open(file_path, 'rb') as file:\n",
    "#             obj = pickle.load(file)\n",
    "#         print(f\"Object successfully loaded from {file_path}\")\n",
    "#         return obj\n",
    "#     except Exception as e:\n",
    "#         print(f\"An error occurred while loading the object: {e}\")\n",
    "#         return None\n",
    "        "
   ]
  },
  {
   "cell_type": "code",
   "execution_count": 12,
   "metadata": {},
   "outputs": [
    {
     "name": "stdout",
     "output_type": "stream",
     "text": [
      "Object successfully saved to ..\\..\\..\\data\\4pi_re1000_ha300.360_ch28.p1\\SliceYZ_x0015\\pkl\\sliceYZ_x0015_fld.pkl\n"
     ]
    }
   ],
   "source": [
    "save_object(data_frames, pickle_dir)"
   ]
  },
  {
   "cell_type": "markdown",
   "metadata": {},
   "source": [
    "### Verification"
   ]
  },
  {
   "cell_type": "code",
   "execution_count": 13,
   "metadata": {},
   "outputs": [
    {
     "name": "stdout",
     "output_type": "stream",
     "text": [
      "Object successfully loaded from ..\\..\\..\\data\\4pi_re1000_ha300.360_ch28.p1\\SliceYZ_x0015\\pkl\\sliceYZ_x0015_fld.pkl\n",
      "N = 20000\n",
      "n_y = 46.0, n_z = 46.0, n_v = 10\n",
      "          y    z   vx   vy   vz        jx        jy   jz         P         F\n",
      "0 -1.000000 -1.0  0.0  0.0  0.0 -0.202742  0.000000  0.0 -0.000586  1.594463\n",
      "1 -0.987221 -1.0  0.0  0.0  0.0 -0.122091  2.072063  0.0 -0.000584  1.580085\n",
      "2 -0.966764 -1.0  0.0  0.0  0.0 -0.080987  3.681530  0.0 -0.000576  1.517575\n",
      "3 -0.938938 -1.0  0.0  0.0  0.0 -0.255745  3.601412  0.0 -0.000556  1.412722\n",
      "4 -0.904241 -1.0  0.0  0.0  0.0 -1.052832  2.337604  0.0 -0.000527  1.307453\n"
     ]
    }
   ],
   "source": [
    "# Load the object back from the specified path\n",
    "loaded_data = load_object(pickle_dir)\n",
    "\n",
    "# Verify if it matches the original data\n",
    "print(\"N =\", len(loaded_data))\n",
    "df_first_snapshot = get_snapshot(\n",
    "    loaded_data,\n",
    "    0,\n",
    "    )\n",
    "n_x_y, n_v = df_first_snapshot.shape\n",
    "n_y = n_z = np.sqrt(n_x_y)\n",
    "print(f\"n_y = {n_y}, n_z = {n_z}, n_v = {n_v}\")\n",
    "print(df_first_snapshot.head(n=5))"
   ]
  }
 ],
 "metadata": {
  "kernelspec": {
   "display_name": "potential_probe",
   "language": "python",
   "name": "python3"
  },
  "language_info": {
   "codemirror_mode": {
    "name": "ipython",
    "version": 3
   },
   "file_extension": ".py",
   "mimetype": "text/x-python",
   "name": "python",
   "nbconvert_exporter": "python",
   "pygments_lexer": "ipython3",
   "version": "3.12.9"
  }
 },
 "nbformat": 4,
 "nbformat_minor": 2
}
